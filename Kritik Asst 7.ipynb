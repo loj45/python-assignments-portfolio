{
 "cells": [
  {
   "cell_type": "code",
   "execution_count": 9,
   "id": "d70ee199-50f0-4ff2-86d6-674dcfc7cf38",
   "metadata": {},
   "outputs": [
    {
     "name": "stdout",
     "output_type": "stream",
     "text": [
      "Mean is 82.382\n",
      "Standard deviation is 10.193467189005581\n",
      "t0 is 2.290087686017293\n",
      "critical value is 2.2522252225222523\n",
      "Accept Null Hypothesis? False\n"
     ]
    }
   ],
   "source": [
    "import numpy as np\n",
    "from scipy.special import gamma\n",
    "\n",
    "def calculate_mean(data):\n",
    "    total = sum(data)\n",
    "    mean = total/len(data) #this divides the number by the total number of things\n",
    "    return mean\n",
    "\n",
    "def calculate_stdv(data):\n",
    "    mean = calculate_mean(data)\n",
    "    total_diff = sum((num-mean)**2 for num in data)\n",
    "    variance = total_diff/(len(data)-1)\n",
    "    stdv=np.sqrt(variance)\n",
    "    return stdv\n",
    "\n",
    "def calculate_t0(data,mu0):\n",
    "    mean = calculate_mean(data)\n",
    "    stdv = calculate_stdv(data)\n",
    "    n = len(data)\n",
    "    t0 = (mean-mu0)/(stdv/np.sqrt(n))\n",
    "    return t0\n",
    "\n",
    "    #x (float): The point at which to evaluate the density.\n",
    "    #nu (int): The degrees of freedom of the t-distribution.\n",
    "    #density (float): The probability density at point x for the t-distribution with nu degrees of freedom.\n",
    "\n",
    "def t_distribution_pdf(x, nu):\n",
    "    coeff = gamma((nu + 1) / 2) / (np.sqrt(nu * np.pi) * gamma(nu / 2))\n",
    "    density = coeff * (1 + x**2 / nu) ** (-0.5 * (nu + 1))\n",
    "    return density\n",
    "\n",
    "def find_t_star(prob, nu, xi=0, xf=20, num_points=10000): #ie this is where probability is 95%\n",
    "    x=np.linspace(xi, xf, num_points)\n",
    "    y=t_distribution_pdf(x, nu)\n",
    "    cdf=np.cumsum(y) * (x[1]-x[0])\n",
    "    target_half_prob = prob/2\n",
    "    index=np.where(cdf>=target_half_prob)[0][0]\n",
    "    return x[index]\n",
    "\n",
    "def test(t0, t_star):\n",
    "    return abs(t0) <= t_star\n",
    "\n",
    "data=[92.64,79.00,84.79,97.41,93.68,65.23,84.50,73.49,73.97,79.11]\n",
    "mu0=75\n",
    "n=len(data)\n",
    "nu=n-1\n",
    "\n",
    "t0=calculate_t0(data,mu0)\n",
    "t_star=find_t_star(0.95,nu)\n",
    "\n",
    "result=test(t0, t_star)\n",
    "\n",
    "print(f\"Mean is {calculate_mean(data)}\")\n",
    "print(f\"Standard deviation is {calculate_stdv(data)}\")\n",
    "print(f\"t0 is {t0}\")\n",
    "print(f\"critical value is {t_star}\")\n",
    "print(f\"Accept Null Hypothesis? {result}\")"
   ]
  }
 ],
 "metadata": {
  "kernelspec": {
   "display_name": "Python 3 (ipykernel)",
   "language": "python",
   "name": "python3"
  },
  "language_info": {
   "codemirror_mode": {
    "name": "ipython",
    "version": 3
   },
   "file_extension": ".py",
   "mimetype": "text/x-python",
   "name": "python",
   "nbconvert_exporter": "python",
   "pygments_lexer": "ipython3",
   "version": "3.12.8"
  }
 },
 "nbformat": 4,
 "nbformat_minor": 5
}
