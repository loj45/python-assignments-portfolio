{
 "cells": [
  {
   "cell_type": "code",
   "execution_count": 8,
   "id": "885a5cf5-c322-4e3e-bb1a-3e4b0c4f83fd",
   "metadata": {},
   "outputs": [],
   "source": [
    "import numpy as np\n",
    "def funny(x):\n",
    "    if x<=-1:\n",
    "        return 0\n",
    "    elif x>=1:\n",
    "        return 0\n",
    "    else:\n",
    "        return np.exp(1-(1/(1-x**(10**250))))"
   ]
  },
  {
   "cell_type": "code",
   "execution_count": 36,
   "id": "e66d992b-6986-48cd-b487-4745ecfb2a15",
   "metadata": {},
   "outputs": [
    {
     "name": "stdout",
     "output_type": "stream",
     "text": [
      "The estimated root is: 0.2698741375\n",
      "None\n",
      "The estimated root is: 3.1415926536\n",
      "None\n"
     ]
    }
   ],
   "source": [
    "import numpy as np\n",
    "\n",
    "def function1(x):\n",
    "    y=np.exp(x)+np.log(x)\n",
    "    return y\n",
    "\n",
    "def function2(x):\n",
    "    y=np.arctan(x)-x**2\n",
    "    return y\n",
    "    \n",
    "def function3(x):\n",
    "    y=np.sin(x)/np.log(x)\n",
    "    return y\n",
    "\n",
    "def function4(x):\n",
    "    y=np.log(np.cos(x))\n",
    "    return y\n",
    "\n",
    "def kritik2(f,a,b, tolerance=1e-10):\n",
    "    if f(a)*f(b)>=0: #this ensures there is a root between f(a) and f(b)\n",
    "        return None\n",
    "\n",
    "    while (b-a)/2>tolerance: #this checks that we can keep going\n",
    "        c=((a+b)/2) #this allows us to check the midpoint  \n",
    "        if f(c) == 0 or abs(b-a)<tolerance:\n",
    "            return(f\"{c} is the root!\")\n",
    "        elif f(a)*f(c)<0: #if the root is between [a,c]\n",
    "            b=c #we get rid of b, c is the new b\n",
    "        else: #if the root is between [c,b]\n",
    "            a=c #we get rid of a, c is the new a\n",
    "\n",
    "    root = (a+b)/2\n",
    "    return(f\"The estimated root is: {root:.10f}\")\n",
    "\n",
    "    \n",
    "print(kritik2(function1,0.1,1))\n",
    "print(kritik2(function2,0,2))\n",
    "print(kritik2(function3,3,4))\n",
    "print(kritik2(function4,5,7))\n",
    "\n",
    "    \n"
   ]
  },
  {
   "cell_type": "code",
   "execution_count": null,
   "id": "d367adbd-67b0-417a-a926-09abb08520b2",
   "metadata": {},
   "outputs": [],
   "source": []
  }
 ],
 "metadata": {
  "kernelspec": {
   "display_name": "Python 3 (ipykernel)",
   "language": "python",
   "name": "python3"
  },
  "language_info": {
   "codemirror_mode": {
    "name": "ipython",
    "version": 3
   },
   "file_extension": ".py",
   "mimetype": "text/x-python",
   "name": "python",
   "nbconvert_exporter": "python",
   "pygments_lexer": "ipython3",
   "version": "3.11.9"
  }
 },
 "nbformat": 4,
 "nbformat_minor": 5
}
