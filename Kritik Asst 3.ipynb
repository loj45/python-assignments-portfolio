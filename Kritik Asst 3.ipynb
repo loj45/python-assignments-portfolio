{
 "cells": [
  {
   "cell_type": "code",
   "execution_count": 10,
   "id": "d25bdd31-a258-4111-b8ee-948dead1ab87",
   "metadata": {},
   "outputs": [
    {
     "name": "stdout",
     "output_type": "stream",
     "text": [
      "x1: -0.1\n",
      "x2: 0.1\n",
      "f(x1): 0.9048374180359595 500000000.85\n",
      "f(x2): 1.1051709180756477 -499999998.85\n"
     ]
    }
   ],
   "source": [
    "import numpy as np\n",
    "import matplotlib.pyplot as plt\n",
    "%matplotlib inline\n",
    "\n",
    "def func(x):\n",
    "    return np.exp(x)\n",
    "\n",
    "#defining the central difference derivative\n",
    "def cdd(func, c, delta_x=1e-10):\n",
    "    return (func(c+delta_x)-func(c-delta_x)/(2*delta_x))\n",
    "\n",
    "#defining the linear approximation\n",
    "def la(func,c,x):\n",
    "    func_c=func(c)\n",
    "    func_der_c=cdd(func,c)\n",
    "    return func_c+(func_der_c*(x-c))\n",
    "\n",
    "def findx1x2(func,c,E):\n",
    "    x1=c-0.1\n",
    "    x2=c+0.1\n",
    "    distance_size = 0.001\n",
    "\n",
    "    while abs(func(x1)-la(func,c,x1))<E:\n",
    "        x1-=distance_size\n",
    "\n",
    "    while abs(func(x2)-la(func,c,x2))<E:\n",
    "        x2+=distance_size\n",
    "\n",
    "    return x1,x2\n",
    "\n",
    "c=0\n",
    "E=0.01\n",
    "\n",
    "x1,x2=findx1x2(func,c,E)\n",
    "\n",
    "print(\"x1:\",x1)\n",
    "print(\"x2:\",x2)\n",
    "print(\"f(x1):\",func(x1),la(func,c,x1))\n",
    "print(\"f(x2):\",func(x2),la(func,c,x2))\n"
   ]
  },
  {
   "cell_type": "code",
   "execution_count": null,
   "id": "26d150b7-2387-4e66-b5bb-23396fc4791b",
   "metadata": {},
   "outputs": [],
   "source": []
  }
 ],
 "metadata": {
  "kernelspec": {
   "display_name": "Python 3 (ipykernel)",
   "language": "python",
   "name": "python3"
  },
  "language_info": {
   "codemirror_mode": {
    "name": "ipython",
    "version": 3
   },
   "file_extension": ".py",
   "mimetype": "text/x-python",
   "name": "python",
   "nbconvert_exporter": "python",
   "pygments_lexer": "ipython3",
   "version": "3.11.9"
  }
 },
 "nbformat": 4,
 "nbformat_minor": 5
}
